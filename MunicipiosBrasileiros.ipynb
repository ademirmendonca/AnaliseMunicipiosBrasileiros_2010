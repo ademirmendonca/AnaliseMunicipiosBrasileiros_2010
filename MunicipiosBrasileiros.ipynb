{
  "nbformat": 4,
  "nbformat_minor": 0,
  "metadata": {
    "colab": {
      "name": "MunicipiosBrasileiros.ipynb",
      "provenance": [],
      "collapsed_sections": []
    },
    "kernelspec": {
      "name": "python3",
      "display_name": "Python 3"
    },
    "language_info": {
      "name": "python"
    }
  },
  "cells": [
    {
      "cell_type": "markdown",
      "source": [
        "######**PySpark | V1 | BY: Ademir Mendonça**\n",
        "\n",
        "**Link oficial do dado:**\n",
        "http://blog.mds.gov.br/redesuas/wp-content/uploads/2018/06/Lista_Munic%C3%ADpios_com_IBGE_Brasil_Versao_CSV.csv\n",
        "\n",
        "**Link dado tratado:**\n",
        "https://raw.githubusercontent.com/ademirmendonca/DadosPublicos/main/Lista_Municipios.csv\n",
        "\n",
        "**UnravelingCode:**\n",
        "https://www.youtube.com/c/UnravelingCode\n",
        "\n",
        "##**O Objetivo deste material é estudar o framework pyspark então, vamos lá!**\n",
        "#**:)** "
      ],
      "metadata": {
        "id": "Fh5c0GjmyLfY"
      }
    },
    {
      "cell_type": "markdown",
      "source": [
        "Instalando pacotes necessários."
      ],
      "metadata": {
        "id": "LvlYC0YNzQY3"
      }
    },
    {
      "cell_type": "code",
      "execution_count": null,
      "metadata": {
        "id": "VtyqYtQNyJ0s"
      },
      "outputs": [],
      "source": [
        "from IPython.display import clear_output\n",
        "\n",
        "#!pip install upgrade pip #Atualizando o gestor de pacotes do Python\n",
        "!pip install findspark\n",
        "!pip install pyspark #Instalar a lib do PySpark\n",
        "\n",
        "\n",
        "\n",
        "clear_output(wait=True) #Limpar a saída"
      ]
    },
    {
      "cell_type": "markdown",
      "source": [
        "Importando o Spark"
      ],
      "metadata": {
        "id": "QRpeM6jZNxt-"
      }
    },
    {
      "cell_type": "code",
      "source": [
        "import findspark, pyspark\n",
        "from pyspark.sql import SparkSession\n",
        "from pyspark import SparkFiles\n",
        "\n",
        "from pyspark.sql.functions import col, udf"
      ],
      "metadata": {
        "id": "1_NQRgH_N2cd"
      },
      "execution_count": null,
      "outputs": []
    },
    {
      "cell_type": "markdown",
      "source": [
        "Criando uma instância do Spark"
      ],
      "metadata": {
        "id": "7qawguKNONTk"
      }
    },
    {
      "cell_type": "code",
      "source": [
        "findspark.init()\n",
        "spark = SparkSession.builder.getOrCreate()"
      ],
      "metadata": {
        "id": "zgqqRVPoORld"
      },
      "execution_count": null,
      "outputs": []
    },
    {
      "cell_type": "markdown",
      "source": [
        "Lendo e baixando fonte de dados em um arquivo CSV, no github"
      ],
      "metadata": {
        "id": "SpZpwMB4Ofzr"
      }
    },
    {
      "cell_type": "code",
      "source": [
        "url = \"https://raw.githubusercontent.com/ademirmendonca/DadosPublicos/main/Lista_Municipios.csv\"\n",
        "spark.sparkContext.addFile(url) # Faz o download do arquivo de dados\n",
        "csv_listaMunicipios = SparkFiles.get('Lista_Municipios.csv')\n",
        "df_municipios = spark.read.csv(csv_listaMunicipios, header=True, inferSchema=True, sep=';')"
      ],
      "metadata": {
        "id": "VFNycP9LOoS0"
      },
      "execution_count": null,
      "outputs": []
    },
    {
      "cell_type": "markdown",
      "source": [
        "####Prévia dos dados impressos"
      ],
      "metadata": {
        "id": "yC2McM1bF5VU"
      }
    },
    {
      "cell_type": "code",
      "source": [
        "df_municipios.show() #.show() limita a impressão em apenas 20 linhas, no ambiente local"
      ],
      "metadata": {
        "colab": {
          "base_uri": "https://localhost:8080/"
        },
        "id": "tn0MiWJv2DC4",
        "outputId": "bcdf2798-4931-4909-d1ea-0b9bb09bca22"
      },
      "execution_count": null,
      "outputs": [
        {
          "output_type": "stream",
          "name": "stdout",
          "text": [
            "+--------------------+------+-------+---+--------------------+------------+-------------+----------+-------+----+----+\n",
            "|         ConcatUFMun|  IBGE|  IBGE7| UF|           Municipio|      Regiao|Populacao2010|     Porte|Capital| _c9|_c10|\n",
            "+--------------------+------+-------+---+--------------------+------------+-------------+----------+-------+----+----+\n",
            "|ROAlta Floresta D...|110001|1100015| RO|Alta Floresta D o...|Regiao Norte|        24392|Pequeno II|   null|null|null|\n",
            "|         ROAriquemes|110002|1100023| RO|           Ariquemes|Regiao Norte|        90353|     Medio|   null|null|null|\n",
            "|            ROCabixi|110003|1100031| RO|              Cabixi|Regiao Norte|         6313| Pequeno I|   null|null|null|\n",
            "|            ROCacoal|110004|1100049| RO|              Cacoal|Regiao Norte|        78574|     Medio|   null|null|null|\n",
            "|        ROCerejeiras|110005|1100056| RO|          Cerejeiras|Regiao Norte|        17029| Pequeno I|   null|null|null|\n",
            "| ROColorado do Oeste|110006|1100064| RO|   Colorado do Oeste|Regiao Norte|        18591| Pequeno I|   null|null|null|\n",
            "|        ROCorumbiara|110007|1100072| RO|          Corumbiara|Regiao Norte|         8783| Pequeno I|   null|null|null|\n",
            "|     ROCosta Marques|110008|1100080| RO|       Costa Marques|Regiao Norte|        13678| Pequeno I|   null|null|null|\n",
            "|   ROEspigao D'oeste|110009|1100098| RO|     Espigao D oeste|Regiao Norte|        28729|Pequeno II|   null|null|null|\n",
            "|     ROGuajara-mirim|110010|1100106| RO|       Guajara-mirim|Regiao Norte|        41656|Pequeno II|   null|null|null|\n",
            "|              ROJaru|110011|1100114| RO|                Jaru|Regiao Norte|        52005|     Medio|   null|null|null|\n",
            "|         ROJi-parana|110012|1100122| RO|           Ji-parana|Regiao Norte|       116610|    Grande|   null|null|null|\n",
            "|ROMachadinho D'oeste|110013|1100130| RO|   Machadinho Doeste|Regiao Norte|        31135|Pequeno II|   null|null|null|\n",
            "|RONova Brasilandi...|110014|1100148| RO|Nova Brasilandia ...|Regiao Norte|        19874| Pequeno I|   null|null|null|\n",
            "|ROOuro Preto do O...|110015|1100155| RO| Ouro Preto do Oeste|Regiao Norte|        37928|Pequeno II|   null|null|null|\n",
            "|     ROPimenta Bueno|110018|1100189| RO|       Pimenta Bueno|Regiao Norte|        33822|Pequeno II|   null|null|null|\n",
            "|       ROPorto Velho|110020|1100205| RO|         Porto Velho|Regiao Norte|       428527|    Grande|Capital|null|null|\n",
            "| ROPresidente Medici|110025|1100254| RO|   Presidente Medici|Regiao Norte|        22319|Pequeno II|   null|null|null|\n",
            "|        RORio Crespo|110026|1100262| RO|          Rio Crespo|Regiao Norte|         3316| Pequeno I|   null|null|null|\n",
            "|    RORolim de Moura|110028|1100288| RO|      Rolim de Moura|Regiao Norte|        50648|     Medio|   null|null|null|\n",
            "+--------------------+------+-------+---+--------------------+------------+-------------+----------+-------+----+----+\n",
            "only showing top 20 rows\n",
            "\n"
          ]
        }
      ]
    },
    {
      "cell_type": "code",
      "source": [
        "df_municipios.show(truncate = False, n=30) # n=30 para imprimir 30 linhas.    Alternativa: df_municipios.show(30)"
      ],
      "metadata": {
        "colab": {
          "base_uri": "https://localhost:8080/"
        },
        "id": "M2xY_4pSEvBj",
        "outputId": "e4973129-67da-4fe6-d787-f30ead04b29d"
      },
      "execution_count": null,
      "outputs": [
        {
          "output_type": "stream",
          "name": "stdout",
          "text": [
            "+--------------------------+------+-------+---+------------------------+------------+-------------+----------+-------+----+----+\n",
            "|ConcatUFMun               |IBGE  |IBGE7  |UF |Municipio               |Regiao      |Populacao2010|Porte     |Capital|_c9 |_c10|\n",
            "+--------------------------+------+-------+---+------------------------+------------+-------------+----------+-------+----+----+\n",
            "|ROAlta Floresta D'oeste   |110001|1100015|RO |Alta Floresta D oeste   |Regiao Norte|24392        |Pequeno II|null   |null|null|\n",
            "|ROAriquemes               |110002|1100023|RO |Ariquemes               |Regiao Norte|90353        |Medio     |null   |null|null|\n",
            "|ROCabixi                  |110003|1100031|RO |Cabixi                  |Regiao Norte|6313         |Pequeno I |null   |null|null|\n",
            "|ROCacoal                  |110004|1100049|RO |Cacoal                  |Regiao Norte|78574        |Medio     |null   |null|null|\n",
            "|ROCerejeiras              |110005|1100056|RO |Cerejeiras              |Regiao Norte|17029        |Pequeno I |null   |null|null|\n",
            "|ROColorado do Oeste       |110006|1100064|RO |Colorado do Oeste       |Regiao Norte|18591        |Pequeno I |null   |null|null|\n",
            "|ROCorumbiara              |110007|1100072|RO |Corumbiara              |Regiao Norte|8783         |Pequeno I |null   |null|null|\n",
            "|ROCosta Marques           |110008|1100080|RO |Costa Marques           |Regiao Norte|13678        |Pequeno I |null   |null|null|\n",
            "|ROEspigao D'oeste         |110009|1100098|RO |Espigao D oeste         |Regiao Norte|28729        |Pequeno II|null   |null|null|\n",
            "|ROGuajara-mirim           |110010|1100106|RO |Guajara-mirim           |Regiao Norte|41656        |Pequeno II|null   |null|null|\n",
            "|ROJaru                    |110011|1100114|RO |Jaru                    |Regiao Norte|52005        |Medio     |null   |null|null|\n",
            "|ROJi-parana               |110012|1100122|RO |Ji-parana               |Regiao Norte|116610       |Grande    |null   |null|null|\n",
            "|ROMachadinho D'oeste      |110013|1100130|RO |Machadinho Doeste       |Regiao Norte|31135        |Pequeno II|null   |null|null|\n",
            "|RONova Brasilandia D'oeste|110014|1100148|RO |Nova Brasilandia D oeste|Regiao Norte|19874        |Pequeno I |null   |null|null|\n",
            "|ROOuro Preto do Oeste     |110015|1100155|RO |Ouro Preto do Oeste     |Regiao Norte|37928        |Pequeno II|null   |null|null|\n",
            "|ROPimenta Bueno           |110018|1100189|RO |Pimenta Bueno           |Regiao Norte|33822        |Pequeno II|null   |null|null|\n",
            "|ROPorto Velho             |110020|1100205|RO |Porto Velho             |Regiao Norte|428527       |Grande    |Capital|null|null|\n",
            "|ROPresidente Medici       |110025|1100254|RO |Presidente Medici       |Regiao Norte|22319        |Pequeno II|null   |null|null|\n",
            "|RORio Crespo              |110026|1100262|RO |Rio Crespo              |Regiao Norte|3316         |Pequeno I |null   |null|null|\n",
            "|RORolim de Moura          |110028|1100288|RO |Rolim de Moura          |Regiao Norte|50648        |Medio     |null   |null|null|\n",
            "|ROSanta Luzia D'oeste     |110029|1100296|RO |Santa Luzia D oeste     |Regiao Norte|8886         |Pequeno I |null   |null|null|\n",
            "|ROVilhena                 |110030|1100304|RO |Vilhena                 |Regiao Norte|76202        |Medio     |null   |null|null|\n",
            "|ROSao Miguel do Guapore   |110032|1100320|RO |Sao Miguel do Guapore   |Regiao Norte|21828        |Pequeno II|null   |null|null|\n",
            "|RONova Mamore             |110033|1100338|RO |Nova Mamore             |Regiao Norte|22546        |Pequeno II|null   |null|null|\n",
            "|ROAlvorada D'oeste        |110034|1100346|RO |Alvorada D oeste        |Regiao Norte|16853        |Pequeno I |null   |null|null|\n",
            "|ROAlto Alegre Dos Parecis |110037|1100379|RO |Alto Alegre Dos Parecis |Regiao Norte|12816        |Pequeno I |null   |null|null|\n",
            "|ROAlto Paraiso            |110040|1100403|RO |Alto Paraiso            |Regiao Norte|17135        |Pequeno I |null   |null|null|\n",
            "|ROBuritis                 |110045|1100452|RO |Buritis                 |Regiao Norte|32383        |Pequeno II|null   |null|null|\n",
            "|RONovo Horizonte do Oeste |110050|1100502|RO |Novo Horizonte do Oeste |Regiao Norte|10240        |Pequeno I |null   |null|null|\n",
            "|ROCacaulandia             |110060|1100601|RO |Cacaulandia             |Regiao Norte|5736         |Pequeno I |null   |null|null|\n",
            "+--------------------------+------+-------+---+------------------------+------------+-------------+----------+-------+----+----+\n",
            "only showing top 30 rows\n",
            "\n"
          ]
        }
      ]
    },
    {
      "cell_type": "markdown",
      "source": [
        "##Modificando o visual"
      ],
      "metadata": {
        "id": "DiubCsnoEsmc"
      }
    },
    {
      "cell_type": "code",
      "source": [
        "spark.conf.set('spark.sql.repl.eagerEval.enabled', True) #Modificando o visual\n",
        "df_municipios"
      ],
      "metadata": {
        "colab": {
          "base_uri": "https://localhost:8080/",
          "height": 524
        },
        "id": "hqs2U9e1wl8T",
        "outputId": "a9237ac8-ffa4-4a0f-f49d-c6ff32418dc7"
      },
      "execution_count": null,
      "outputs": [
        {
          "output_type": "execute_result",
          "data": {
            "text/plain": [
              "+--------------------+------+-------+---+--------------------+------------+-------------+----------+-------+----+----+\n",
              "|         ConcatUFMun|  IBGE|  IBGE7| UF|           Municipio|      Regiao|Populacao2010|     Porte|Capital| _c9|_c10|\n",
              "+--------------------+------+-------+---+--------------------+------------+-------------+----------+-------+----+----+\n",
              "|ROAlta Floresta D...|110001|1100015| RO|Alta Floresta D o...|Regiao Norte|        24392|Pequeno II|   null|null|null|\n",
              "|         ROAriquemes|110002|1100023| RO|           Ariquemes|Regiao Norte|        90353|     Medio|   null|null|null|\n",
              "|            ROCabixi|110003|1100031| RO|              Cabixi|Regiao Norte|         6313| Pequeno I|   null|null|null|\n",
              "|            ROCacoal|110004|1100049| RO|              Cacoal|Regiao Norte|        78574|     Medio|   null|null|null|\n",
              "|        ROCerejeiras|110005|1100056| RO|          Cerejeiras|Regiao Norte|        17029| Pequeno I|   null|null|null|\n",
              "| ROColorado do Oeste|110006|1100064| RO|   Colorado do Oeste|Regiao Norte|        18591| Pequeno I|   null|null|null|\n",
              "|        ROCorumbiara|110007|1100072| RO|          Corumbiara|Regiao Norte|         8783| Pequeno I|   null|null|null|\n",
              "|     ROCosta Marques|110008|1100080| RO|       Costa Marques|Regiao Norte|        13678| Pequeno I|   null|null|null|\n",
              "|   ROEspigao D'oeste|110009|1100098| RO|     Espigao D oeste|Regiao Norte|        28729|Pequeno II|   null|null|null|\n",
              "|     ROGuajara-mirim|110010|1100106| RO|       Guajara-mirim|Regiao Norte|        41656|Pequeno II|   null|null|null|\n",
              "|              ROJaru|110011|1100114| RO|                Jaru|Regiao Norte|        52005|     Medio|   null|null|null|\n",
              "|         ROJi-parana|110012|1100122| RO|           Ji-parana|Regiao Norte|       116610|    Grande|   null|null|null|\n",
              "|ROMachadinho D'oeste|110013|1100130| RO|   Machadinho Doeste|Regiao Norte|        31135|Pequeno II|   null|null|null|\n",
              "|RONova Brasilandi...|110014|1100148| RO|Nova Brasilandia ...|Regiao Norte|        19874| Pequeno I|   null|null|null|\n",
              "|ROOuro Preto do O...|110015|1100155| RO| Ouro Preto do Oeste|Regiao Norte|        37928|Pequeno II|   null|null|null|\n",
              "|     ROPimenta Bueno|110018|1100189| RO|       Pimenta Bueno|Regiao Norte|        33822|Pequeno II|   null|null|null|\n",
              "|       ROPorto Velho|110020|1100205| RO|         Porto Velho|Regiao Norte|       428527|    Grande|Capital|null|null|\n",
              "| ROPresidente Medici|110025|1100254| RO|   Presidente Medici|Regiao Norte|        22319|Pequeno II|   null|null|null|\n",
              "|        RORio Crespo|110026|1100262| RO|          Rio Crespo|Regiao Norte|         3316| Pequeno I|   null|null|null|\n",
              "|    RORolim de Moura|110028|1100288| RO|      Rolim de Moura|Regiao Norte|        50648|     Medio|   null|null|null|\n",
              "+--------------------+------+-------+---+--------------------+------------+-------------+----------+-------+----+----+\n",
              "only showing top 20 rows"
            ],
            "text/html": [
              "<table border='1'>\n",
              "<tr><th>ConcatUFMun</th><th>IBGE</th><th>IBGE7</th><th>UF</th><th>Municipio</th><th>Regiao</th><th>Populacao2010</th><th>Porte</th><th>Capital</th><th>_c9</th><th>_c10</th></tr>\n",
              "<tr><td>ROAlta Floresta D...</td><td>110001</td><td>1100015</td><td>RO</td><td>Alta Floresta D o...</td><td>Regiao Norte</td><td>24392</td><td>Pequeno II</td><td>null</td><td>null</td><td>null</td></tr>\n",
              "<tr><td>ROAriquemes</td><td>110002</td><td>1100023</td><td>RO</td><td>Ariquemes</td><td>Regiao Norte</td><td>90353</td><td>Medio</td><td>null</td><td>null</td><td>null</td></tr>\n",
              "<tr><td>ROCabixi</td><td>110003</td><td>1100031</td><td>RO</td><td>Cabixi</td><td>Regiao Norte</td><td>6313</td><td>Pequeno I</td><td>null</td><td>null</td><td>null</td></tr>\n",
              "<tr><td>ROCacoal</td><td>110004</td><td>1100049</td><td>RO</td><td>Cacoal</td><td>Regiao Norte</td><td>78574</td><td>Medio</td><td>null</td><td>null</td><td>null</td></tr>\n",
              "<tr><td>ROCerejeiras</td><td>110005</td><td>1100056</td><td>RO</td><td>Cerejeiras</td><td>Regiao Norte</td><td>17029</td><td>Pequeno I</td><td>null</td><td>null</td><td>null</td></tr>\n",
              "<tr><td>ROColorado do Oeste</td><td>110006</td><td>1100064</td><td>RO</td><td>Colorado do Oeste</td><td>Regiao Norte</td><td>18591</td><td>Pequeno I</td><td>null</td><td>null</td><td>null</td></tr>\n",
              "<tr><td>ROCorumbiara</td><td>110007</td><td>1100072</td><td>RO</td><td>Corumbiara</td><td>Regiao Norte</td><td>8783</td><td>Pequeno I</td><td>null</td><td>null</td><td>null</td></tr>\n",
              "<tr><td>ROCosta Marques</td><td>110008</td><td>1100080</td><td>RO</td><td>Costa Marques</td><td>Regiao Norte</td><td>13678</td><td>Pequeno I</td><td>null</td><td>null</td><td>null</td></tr>\n",
              "<tr><td>ROEspigao D&#x27;oeste</td><td>110009</td><td>1100098</td><td>RO</td><td>Espigao D oeste</td><td>Regiao Norte</td><td>28729</td><td>Pequeno II</td><td>null</td><td>null</td><td>null</td></tr>\n",
              "<tr><td>ROGuajara-mirim</td><td>110010</td><td>1100106</td><td>RO</td><td>Guajara-mirim</td><td>Regiao Norte</td><td>41656</td><td>Pequeno II</td><td>null</td><td>null</td><td>null</td></tr>\n",
              "<tr><td>ROJaru</td><td>110011</td><td>1100114</td><td>RO</td><td>Jaru</td><td>Regiao Norte</td><td>52005</td><td>Medio</td><td>null</td><td>null</td><td>null</td></tr>\n",
              "<tr><td>ROJi-parana</td><td>110012</td><td>1100122</td><td>RO</td><td>Ji-parana</td><td>Regiao Norte</td><td>116610</td><td>Grande</td><td>null</td><td>null</td><td>null</td></tr>\n",
              "<tr><td>ROMachadinho D&#x27;oeste</td><td>110013</td><td>1100130</td><td>RO</td><td>Machadinho Doeste</td><td>Regiao Norte</td><td>31135</td><td>Pequeno II</td><td>null</td><td>null</td><td>null</td></tr>\n",
              "<tr><td>RONova Brasilandi...</td><td>110014</td><td>1100148</td><td>RO</td><td>Nova Brasilandia ...</td><td>Regiao Norte</td><td>19874</td><td>Pequeno I</td><td>null</td><td>null</td><td>null</td></tr>\n",
              "<tr><td>ROOuro Preto do O...</td><td>110015</td><td>1100155</td><td>RO</td><td>Ouro Preto do Oeste</td><td>Regiao Norte</td><td>37928</td><td>Pequeno II</td><td>null</td><td>null</td><td>null</td></tr>\n",
              "<tr><td>ROPimenta Bueno</td><td>110018</td><td>1100189</td><td>RO</td><td>Pimenta Bueno</td><td>Regiao Norte</td><td>33822</td><td>Pequeno II</td><td>null</td><td>null</td><td>null</td></tr>\n",
              "<tr><td>ROPorto Velho</td><td>110020</td><td>1100205</td><td>RO</td><td>Porto Velho</td><td>Regiao Norte</td><td>428527</td><td>Grande</td><td>Capital</td><td>null</td><td>null</td></tr>\n",
              "<tr><td>ROPresidente Medici</td><td>110025</td><td>1100254</td><td>RO</td><td>Presidente Medici</td><td>Regiao Norte</td><td>22319</td><td>Pequeno II</td><td>null</td><td>null</td><td>null</td></tr>\n",
              "<tr><td>RORio Crespo</td><td>110026</td><td>1100262</td><td>RO</td><td>Rio Crespo</td><td>Regiao Norte</td><td>3316</td><td>Pequeno I</td><td>null</td><td>null</td><td>null</td></tr>\n",
              "<tr><td>RORolim de Moura</td><td>110028</td><td>1100288</td><td>RO</td><td>Rolim de Moura</td><td>Regiao Norte</td><td>50648</td><td>Medio</td><td>null</td><td>null</td><td>null</td></tr>\n",
              "</table>\n",
              "only showing top 20 rows\n"
            ]
          },
          "metadata": {},
          "execution_count": 7
        }
      ]
    },
    {
      "cell_type": "markdown",
      "source": [
        "##Outra forma de imprimir os dados na tela, de forma mais simplificada."
      ],
      "metadata": {
        "id": "sa2VIvVlwJ8x"
      }
    },
    {
      "cell_type": "code",
      "source": [
        "df_municipios"
      ],
      "metadata": {
        "colab": {
          "base_uri": "https://localhost:8080/",
          "height": 524
        },
        "id": "XBvMA1JrhIuT",
        "outputId": "5418ee6c-d99e-4b4e-cf8e-e9c2d77cab46"
      },
      "execution_count": null,
      "outputs": [
        {
          "output_type": "execute_result",
          "data": {
            "text/plain": [
              "DataFrame[ConcatUFMun: string, IBGE: int, IBGE7: int, UF: string, Municipio: string, Regiao: string, Populacao2010: int, Porte: string, Capital: string, _c9: string, _c10: string]"
            ],
            "text/html": [
              "<table border='1'>\n",
              "<tr><th>ConcatUFMun</th><th>IBGE</th><th>IBGE7</th><th>UF</th><th>Municipio</th><th>Regiao</th><th>Populacao2010</th><th>Porte</th><th>Capital</th><th>_c9</th><th>_c10</th></tr>\n",
              "<tr><td>ROAlta Floresta D...</td><td>110001</td><td>1100015</td><td>RO</td><td>Alta Floresta D o...</td><td>Regiao Norte</td><td>24392</td><td>Pequeno II</td><td>null</td><td>null</td><td>null</td></tr>\n",
              "<tr><td>ROAriquemes</td><td>110002</td><td>1100023</td><td>RO</td><td>Ariquemes</td><td>Regiao Norte</td><td>90353</td><td>Medio</td><td>null</td><td>null</td><td>null</td></tr>\n",
              "<tr><td>ROCabixi</td><td>110003</td><td>1100031</td><td>RO</td><td>Cabixi</td><td>Regiao Norte</td><td>6313</td><td>Pequeno I</td><td>null</td><td>null</td><td>null</td></tr>\n",
              "<tr><td>ROCacoal</td><td>110004</td><td>1100049</td><td>RO</td><td>Cacoal</td><td>Regiao Norte</td><td>78574</td><td>Medio</td><td>null</td><td>null</td><td>null</td></tr>\n",
              "<tr><td>ROCerejeiras</td><td>110005</td><td>1100056</td><td>RO</td><td>Cerejeiras</td><td>Regiao Norte</td><td>17029</td><td>Pequeno I</td><td>null</td><td>null</td><td>null</td></tr>\n",
              "<tr><td>ROColorado do Oeste</td><td>110006</td><td>1100064</td><td>RO</td><td>Colorado do Oeste</td><td>Regiao Norte</td><td>18591</td><td>Pequeno I</td><td>null</td><td>null</td><td>null</td></tr>\n",
              "<tr><td>ROCorumbiara</td><td>110007</td><td>1100072</td><td>RO</td><td>Corumbiara</td><td>Regiao Norte</td><td>8783</td><td>Pequeno I</td><td>null</td><td>null</td><td>null</td></tr>\n",
              "<tr><td>ROCosta Marques</td><td>110008</td><td>1100080</td><td>RO</td><td>Costa Marques</td><td>Regiao Norte</td><td>13678</td><td>Pequeno I</td><td>null</td><td>null</td><td>null</td></tr>\n",
              "<tr><td>ROEspigao D&#x27;oeste</td><td>110009</td><td>1100098</td><td>RO</td><td>Espigao D oeste</td><td>Regiao Norte</td><td>28729</td><td>Pequeno II</td><td>null</td><td>null</td><td>null</td></tr>\n",
              "<tr><td>ROGuajara-mirim</td><td>110010</td><td>1100106</td><td>RO</td><td>Guajara-mirim</td><td>Regiao Norte</td><td>41656</td><td>Pequeno II</td><td>null</td><td>null</td><td>null</td></tr>\n",
              "<tr><td>ROJaru</td><td>110011</td><td>1100114</td><td>RO</td><td>Jaru</td><td>Regiao Norte</td><td>52005</td><td>Medio</td><td>null</td><td>null</td><td>null</td></tr>\n",
              "<tr><td>ROJi-parana</td><td>110012</td><td>1100122</td><td>RO</td><td>Ji-parana</td><td>Regiao Norte</td><td>116610</td><td>Grande</td><td>null</td><td>null</td><td>null</td></tr>\n",
              "<tr><td>ROMachadinho D&#x27;oeste</td><td>110013</td><td>1100130</td><td>RO</td><td>Machadinho Doeste</td><td>Regiao Norte</td><td>31135</td><td>Pequeno II</td><td>null</td><td>null</td><td>null</td></tr>\n",
              "<tr><td>RONova Brasilandi...</td><td>110014</td><td>1100148</td><td>RO</td><td>Nova Brasilandia ...</td><td>Regiao Norte</td><td>19874</td><td>Pequeno I</td><td>null</td><td>null</td><td>null</td></tr>\n",
              "<tr><td>ROOuro Preto do O...</td><td>110015</td><td>1100155</td><td>RO</td><td>Ouro Preto do Oeste</td><td>Regiao Norte</td><td>37928</td><td>Pequeno II</td><td>null</td><td>null</td><td>null</td></tr>\n",
              "<tr><td>ROPimenta Bueno</td><td>110018</td><td>1100189</td><td>RO</td><td>Pimenta Bueno</td><td>Regiao Norte</td><td>33822</td><td>Pequeno II</td><td>null</td><td>null</td><td>null</td></tr>\n",
              "<tr><td>ROPorto Velho</td><td>110020</td><td>1100205</td><td>RO</td><td>Porto Velho</td><td>Regiao Norte</td><td>428527</td><td>Grande</td><td>Capital</td><td>null</td><td>null</td></tr>\n",
              "<tr><td>ROPresidente Medici</td><td>110025</td><td>1100254</td><td>RO</td><td>Presidente Medici</td><td>Regiao Norte</td><td>22319</td><td>Pequeno II</td><td>null</td><td>null</td><td>null</td></tr>\n",
              "<tr><td>RORio Crespo</td><td>110026</td><td>1100262</td><td>RO</td><td>Rio Crespo</td><td>Regiao Norte</td><td>3316</td><td>Pequeno I</td><td>null</td><td>null</td><td>null</td></tr>\n",
              "<tr><td>RORolim de Moura</td><td>110028</td><td>1100288</td><td>RO</td><td>Rolim de Moura</td><td>Regiao Norte</td><td>50648</td><td>Medio</td><td>null</td><td>null</td><td>null</td></tr>\n",
              "</table>\n",
              "only showing top 20 rows\n"
            ]
          },
          "metadata": {},
          "execution_count": 22
        }
      ]
    },
    {
      "cell_type": "markdown",
      "source": [
        "###Cálculo da soma total da população, agrupado por UF."
      ],
      "metadata": {
        "id": "GS0VKm_jfVBU"
      }
    },
    {
      "cell_type": "code",
      "source": [
        "df_municipios.groupBy('UF').sum('Populacao2010').show(n=30)"
      ],
      "metadata": {
        "colab": {
          "base_uri": "https://localhost:8080/"
        },
        "id": "gd-Ac_Gzw6jj",
        "outputId": "00814523-e2fa-4056-94bb-63a9fe258adb"
      },
      "execution_count": null,
      "outputs": [
        {
          "output_type": "stream",
          "name": "stdout",
          "text": [
            "+---+------------------+\n",
            "| UF|sum(Populacao2010)|\n",
            "+---+------------------+\n",
            "| SC|           6248436|\n",
            "| RO|           1562409|\n",
            "| PI|           3118360|\n",
            "| AM|           3483985|\n",
            "| RR|            450479|\n",
            "| GO|           6003788|\n",
            "| TO|           1383445|\n",
            "| MT|           3035122|\n",
            "| SP|          41262199|\n",
            "| PB|           3766528|\n",
            "| ES|           3514952|\n",
            "| RS|          10693929|\n",
            "| MS|           2449024|\n",
            "| AL|           3120494|\n",
            "| MG|          19597330|\n",
            "| PA|           7581051|\n",
            "| BA|          14016906|\n",
            "| SE|           2068017|\n",
            "| PE|           8796448|\n",
            "| CE|           8452381|\n",
            "| RN|           3168027|\n",
            "| RJ|          15989929|\n",
            "| MA|           6574789|\n",
            "| AC|            733559|\n",
            "| DF|           2570160|\n",
            "| PR|          10444526|\n",
            "| AP|            669526|\n",
            "+---+------------------+\n",
            "\n"
          ]
        }
      ]
    },
    {
      "cell_type": "markdown",
      "source": [
        "###Exibindo dados ordenados por UF"
      ],
      "metadata": {
        "id": "QnqpAu_j08_L"
      }
    },
    {
      "cell_type": "code",
      "source": [
        "df_municipios.orderBy('UF')"
      ],
      "metadata": {
        "colab": {
          "base_uri": "https://localhost:8080/",
          "height": 524
        },
        "id": "wMn2yCb5w5IE",
        "outputId": "f3701d06-89c4-43a4-c71b-db7df768adea"
      },
      "execution_count": null,
      "outputs": [
        {
          "output_type": "execute_result",
          "data": {
            "text/plain": [
              "+--------------------+------+-------+---+--------------------+------------+-------------+----------+-------+----+----+\n",
              "|         ConcatUFMun|  IBGE|  IBGE7| UF|           Municipio|      Regiao|Populacao2010|     Porte|Capital| _c9|_c10|\n",
              "+--------------------+------+-------+---+--------------------+------------+-------------+----------+-------+----+----+\n",
              "|        ACAcrelandia|120001|1200013| AC|          Acrelandia|Regiao Norte|        12538| Pequeno I|   null|null|null|\n",
              "|            ACXapuri|120070|1200708| AC|              Xapuri|Regiao Norte|        16091| Pequeno I|   null|null|null|\n",
              "|      ACAssis Brasil|120005|1200054| AC|        Assis Brasil|Regiao Norte|         6072| Pequeno I|   null|null|null|\n",
              "|         ACBrasileia|120010|1200104| AC|           Brasileia|Regiao Norte|        21398|Pequeno II|   null|null|null|\n",
              "|            ACBujari|120013|1200138| AC|              Bujari|Regiao Norte|         8471| Pequeno I|   null|null|null|\n",
              "|          ACCapixaba|120017|1200179| AC|            Capixaba|Regiao Norte|         8798| Pequeno I|   null|null|null|\n",
              "|   ACCruzeiro do Sul|120020|1200203| AC|     Cruzeiro do Sul|Regiao Norte|        78507|     Medio|   null|null|null|\n",
              "|    ACEpitaciolandia|120025|1200252| AC|      Epitaciolandia|Regiao Norte|        15100| Pequeno I|   null|null|null|\n",
              "|             ACFeijo|120030|1200302| AC|               Feijo|Regiao Norte|        32412|Pequeno II|   null|null|null|\n",
              "|            ACJordao|120032|1200328| AC|              Jordao|Regiao Norte|         6577| Pequeno I|   null|null|null|\n",
              "|       ACMancio Lima|120033|1200336| AC|         Mancio Lima|Regiao Norte|        15206| Pequeno I|   null|null|null|\n",
              "|     ACManoel Urbano|120034|1200344| AC|       Manoel Urbano|Regiao Norte|         7981| Pequeno I|   null|null|null|\n",
              "|ACMarechal Thauma...|120035|1200351| AC|Marechal Thaumaturgo|Regiao Norte|        14227| Pequeno I|   null|null|null|\n",
              "| ACPlacido de Castro|120038|1200385| AC|   Placido de Castro|Regiao Norte|        17209| Pequeno I|   null|null|null|\n",
              "|      ACPorto Walter|120039|1200393| AC|        Porto Walter|Regiao Norte|         9176| Pequeno I|   null|null|null|\n",
              "|        ACRio Branco|120040|1200401| AC|          Rio Branco|Regiao Norte|       336038|    Grande|Capital|null|null|\n",
              "|   ACRodrigues Alves|120042|1200427| AC|     Rodrigues Alves|Regiao Norte|        14389| Pequeno I|   null|null|null|\n",
              "|ACSanta Rosa do P...|120043|1200435| AC| Santa Rosa do Purus|Regiao Norte|         4691| Pequeno I|   null|null|null|\n",
              "|  ACSenador Guiomard|120045|1200450| AC|    Senador Guiomard|Regiao Norte|        20179|Pequeno II|   null|null|null|\n",
              "|    ACSena Madureira|120050|1200500| AC|      Sena Madureira|Regiao Norte|        38029|Pequeno II|   null|null|null|\n",
              "+--------------------+------+-------+---+--------------------+------------+-------------+----------+-------+----+----+\n",
              "only showing top 20 rows"
            ],
            "text/html": [
              "<table border='1'>\n",
              "<tr><th>ConcatUFMun</th><th>IBGE</th><th>IBGE7</th><th>UF</th><th>Municipio</th><th>Regiao</th><th>Populacao2010</th><th>Porte</th><th>Capital</th><th>_c9</th><th>_c10</th></tr>\n",
              "<tr><td>ACAcrelandia</td><td>120001</td><td>1200013</td><td>AC</td><td>Acrelandia</td><td>Regiao Norte</td><td>12538</td><td>Pequeno I</td><td>null</td><td>null</td><td>null</td></tr>\n",
              "<tr><td>ACXapuri</td><td>120070</td><td>1200708</td><td>AC</td><td>Xapuri</td><td>Regiao Norte</td><td>16091</td><td>Pequeno I</td><td>null</td><td>null</td><td>null</td></tr>\n",
              "<tr><td>ACAssis Brasil</td><td>120005</td><td>1200054</td><td>AC</td><td>Assis Brasil</td><td>Regiao Norte</td><td>6072</td><td>Pequeno I</td><td>null</td><td>null</td><td>null</td></tr>\n",
              "<tr><td>ACBrasileia</td><td>120010</td><td>1200104</td><td>AC</td><td>Brasileia</td><td>Regiao Norte</td><td>21398</td><td>Pequeno II</td><td>null</td><td>null</td><td>null</td></tr>\n",
              "<tr><td>ACBujari</td><td>120013</td><td>1200138</td><td>AC</td><td>Bujari</td><td>Regiao Norte</td><td>8471</td><td>Pequeno I</td><td>null</td><td>null</td><td>null</td></tr>\n",
              "<tr><td>ACCapixaba</td><td>120017</td><td>1200179</td><td>AC</td><td>Capixaba</td><td>Regiao Norte</td><td>8798</td><td>Pequeno I</td><td>null</td><td>null</td><td>null</td></tr>\n",
              "<tr><td>ACCruzeiro do Sul</td><td>120020</td><td>1200203</td><td>AC</td><td>Cruzeiro do Sul</td><td>Regiao Norte</td><td>78507</td><td>Medio</td><td>null</td><td>null</td><td>null</td></tr>\n",
              "<tr><td>ACEpitaciolandia</td><td>120025</td><td>1200252</td><td>AC</td><td>Epitaciolandia</td><td>Regiao Norte</td><td>15100</td><td>Pequeno I</td><td>null</td><td>null</td><td>null</td></tr>\n",
              "<tr><td>ACFeijo</td><td>120030</td><td>1200302</td><td>AC</td><td>Feijo</td><td>Regiao Norte</td><td>32412</td><td>Pequeno II</td><td>null</td><td>null</td><td>null</td></tr>\n",
              "<tr><td>ACJordao</td><td>120032</td><td>1200328</td><td>AC</td><td>Jordao</td><td>Regiao Norte</td><td>6577</td><td>Pequeno I</td><td>null</td><td>null</td><td>null</td></tr>\n",
              "<tr><td>ACMancio Lima</td><td>120033</td><td>1200336</td><td>AC</td><td>Mancio Lima</td><td>Regiao Norte</td><td>15206</td><td>Pequeno I</td><td>null</td><td>null</td><td>null</td></tr>\n",
              "<tr><td>ACManoel Urbano</td><td>120034</td><td>1200344</td><td>AC</td><td>Manoel Urbano</td><td>Regiao Norte</td><td>7981</td><td>Pequeno I</td><td>null</td><td>null</td><td>null</td></tr>\n",
              "<tr><td>ACMarechal Thauma...</td><td>120035</td><td>1200351</td><td>AC</td><td>Marechal Thaumaturgo</td><td>Regiao Norte</td><td>14227</td><td>Pequeno I</td><td>null</td><td>null</td><td>null</td></tr>\n",
              "<tr><td>ACPlacido de Castro</td><td>120038</td><td>1200385</td><td>AC</td><td>Placido de Castro</td><td>Regiao Norte</td><td>17209</td><td>Pequeno I</td><td>null</td><td>null</td><td>null</td></tr>\n",
              "<tr><td>ACPorto Walter</td><td>120039</td><td>1200393</td><td>AC</td><td>Porto Walter</td><td>Regiao Norte</td><td>9176</td><td>Pequeno I</td><td>null</td><td>null</td><td>null</td></tr>\n",
              "<tr><td>ACRio Branco</td><td>120040</td><td>1200401</td><td>AC</td><td>Rio Branco</td><td>Regiao Norte</td><td>336038</td><td>Grande</td><td>Capital</td><td>null</td><td>null</td></tr>\n",
              "<tr><td>ACRodrigues Alves</td><td>120042</td><td>1200427</td><td>AC</td><td>Rodrigues Alves</td><td>Regiao Norte</td><td>14389</td><td>Pequeno I</td><td>null</td><td>null</td><td>null</td></tr>\n",
              "<tr><td>ACSanta Rosa do P...</td><td>120043</td><td>1200435</td><td>AC</td><td>Santa Rosa do Purus</td><td>Regiao Norte</td><td>4691</td><td>Pequeno I</td><td>null</td><td>null</td><td>null</td></tr>\n",
              "<tr><td>ACSenador Guiomard</td><td>120045</td><td>1200450</td><td>AC</td><td>Senador Guiomard</td><td>Regiao Norte</td><td>20179</td><td>Pequeno II</td><td>null</td><td>null</td><td>null</td></tr>\n",
              "<tr><td>ACSena Madureira</td><td>120050</td><td>1200500</td><td>AC</td><td>Sena Madureira</td><td>Regiao Norte</td><td>38029</td><td>Pequeno II</td><td>null</td><td>null</td><td>null</td></tr>\n",
              "</table>\n",
              "only showing top 20 rows\n"
            ]
          },
          "metadata": {},
          "execution_count": 10
        }
      ]
    },
    {
      "cell_type": "markdown",
      "source": [
        "##Obtendo o mínimo da população por município, ordenado por UF"
      ],
      "metadata": {
        "id": "8mmEHNjT1FTi"
      }
    },
    {
      "cell_type": "code",
      "source": [
        "cols = ['UF', 'Populacao2010']\n",
        "(\n",
        "    df_municipios\n",
        "    .groupBy('UF')\n",
        "    .min('Populacao2010')\n",
        "    .orderBy('min(Populacao2010)')\n",
        "    .withColumnRenamed('min(Populacao2010)', ('PopulacaoMinima')) # withColumnRenamed, para renomear a coluna min(População2010)\n",
        "    .show(30) \n",
        ")"
      ],
      "metadata": {
        "colab": {
          "base_uri": "https://localhost:8080/"
        },
        "id": "5NCZXgG7o6c9",
        "outputId": "1a57ada2-a8d3-4eb2-bd53-619118845679"
      },
      "execution_count": null,
      "outputs": [
        {
          "output_type": "stream",
          "name": "stdout",
          "text": [
            "+---+---------------+\n",
            "| UF|PopulacaoMinima|\n",
            "+---+---------------+\n",
            "| SP|            805|\n",
            "| MG|            815|\n",
            "| GO|           1020|\n",
            "| TO|           1037|\n",
            "| MT|           1096|\n",
            "| RS|           1216|\n",
            "| PI|           1253|\n",
            "| PB|           1256|\n",
            "| PR|           1409|\n",
            "| SC|           1465|\n",
            "| RN|           1618|\n",
            "| SE|           2275|\n",
            "| RO|           2315|\n",
            "| BA|           2612|\n",
            "| PE|           2630|\n",
            "| AL|           2866|\n",
            "| MS|           2928|\n",
            "| PA|           3431|\n",
            "| AP|           3793|\n",
            "| MA|           4020|\n",
            "| CE|           4164|\n",
            "| ES|           4516|\n",
            "| AC|           4691|\n",
            "| RJ|           5269|\n",
            "| RR|           6750|\n",
            "| AM|           7326|\n",
            "| DF|        2570160|\n",
            "+---+---------------+\n",
            "\n"
          ]
        }
      ]
    },
    {
      "cell_type": "markdown",
      "source": [
        "###Obtendo média populacional, agrupada por UF, e ordenada por UF"
      ],
      "metadata": {
        "id": "SAs7qG4hxCWI"
      }
    },
    {
      "cell_type": "code",
      "source": [
        "cols = ['UF', 'Populacao2010']\n",
        "(\n",
        "    df_municipios\n",
        "    .groupBy('UF')\n",
        "    .avg('Populacao2010')\n",
        "    .orderBy('UF')\n",
        "    .withColumnRenamed('avg(Populacao2010)', ('PopulacaoMedia')) #withColumnRenamed: para renomear o nome da coluna (criar um apelido)\n",
        "    .show(30) #Ao invés de utilizar .show(n=30)\n",
        ")"
      ],
      "metadata": {
        "colab": {
          "base_uri": "https://localhost:8080/"
        },
        "id": "IAb1OuDUXELH",
        "outputId": "cffdb1b8-d9e6-471a-ff2b-b947d0892daa"
      },
      "execution_count": null,
      "outputs": [
        {
          "output_type": "stream",
          "name": "stdout",
          "text": [
            "+---+------------------+\n",
            "| UF|    PopulacaoMedia|\n",
            "+---+------------------+\n",
            "| AC| 33343.59090909091|\n",
            "| AL| 30593.07843137255|\n",
            "| AM|  56193.3064516129|\n",
            "| AP|         41845.375|\n",
            "| BA| 33613.68345323741|\n",
            "| CE| 45936.85326086957|\n",
            "| DF|         2570160.0|\n",
            "| ES| 45063.48717948718|\n",
            "| GO|24405.642276422765|\n",
            "| MA|30298.566820276497|\n",
            "| MG| 22974.59554513482|\n",
            "| MS| 31397.74358974359|\n",
            "| MT|21525.687943262412|\n",
            "| PA|53014.342657342655|\n",
            "| PB|  16890.2600896861|\n",
            "| PE| 47548.36756756757|\n",
            "| PI|          13921.25|\n",
            "| PR|26176.756892230576|\n",
            "| RJ| 173803.5760869565|\n",
            "| RN|18970.221556886227|\n",
            "| RO|30046.326923076922|\n",
            "| RR|30031.933333333334|\n",
            "| RS| 21560.34072580645|\n",
            "| SC|21325.720136518772|\n",
            "| SE|          27573.56|\n",
            "| SP|  63972.4015503876|\n",
            "| TO| 9952.841726618704|\n",
            "+---+------------------+\n",
            "\n"
          ]
        }
      ]
    },
    {
      "cell_type": "markdown",
      "source": [
        "####Agrupando dados por Unidade Federativa\n",
        "#####Obs: Sem formatação para o nome das colunas"
      ],
      "metadata": {
        "id": "oTAE3720r42z"
      }
    },
    {
      "cell_type": "code",
      "source": [
        "df_municipios.groupBy(['UF']).sum()"
      ],
      "metadata": {
        "colab": {
          "base_uri": "https://localhost:8080/",
          "height": 524
        },
        "id": "4oW1evoaMIxc",
        "outputId": "1137d019-11c6-4d47-ad37-bc7f20fd8306"
      },
      "execution_count": null,
      "outputs": [
        {
          "output_type": "execute_result",
          "data": {
            "text/plain": [
              "+---+---------+----------+------------------+\n",
              "| UF|sum(IBGE)|sum(IBGE7)|sum(Populacao2010)|\n",
              "+---+---------+----------+------------------+\n",
              "| SC|124189368|1241894993|           6248436|\n",
              "| RO|  5723521|  57235443|           1562409|\n",
              "| PI| 49407438| 494075355|           3118360|\n",
              "| AM|  8073418|  80734451|           3483985|\n",
              "| RR|  2100462|  21004693|            450479|\n",
              "| GO|128198764|1281988737|           6003788|\n",
              "| TO| 23790468| 237905293|           1383445|\n",
              "| MT| 71983896| 719839592|           3035122|\n",
              "| SP|227600721|2276010133|          41262199|\n",
              "| PB| 55944004| 559441029|           3766528|\n",
              "| ES| 24982636| 249826710|           3514952|\n",
              "| RS|214300083|2143003048|          10693929|\n",
              "| MS| 39535486| 395355226|           2449024|\n",
              "| AL| 27588746| 275887914|           3120494|\n",
              "| MG|267584156|2675845374|          19597330|\n",
              "| PA| 21664293| 216643582|           7581051|\n",
              "| BA|121644985|1216451757|          14016906|\n",
              "| SE| 21029422| 210294557|           2068017|\n",
              "| PE| 48252385| 482524668|           8796448|\n",
              "| CE| 42449433| 424495156|           8452381|\n",
              "+---+---------+----------+------------------+\n",
              "only showing top 20 rows"
            ],
            "text/html": [
              "<table border='1'>\n",
              "<tr><th>UF</th><th>sum(IBGE)</th><th>sum(IBGE7)</th><th>sum(Populacao2010)</th></tr>\n",
              "<tr><td>SC</td><td>124189368</td><td>1241894993</td><td>6248436</td></tr>\n",
              "<tr><td>RO</td><td>5723521</td><td>57235443</td><td>1562409</td></tr>\n",
              "<tr><td>PI</td><td>49407438</td><td>494075355</td><td>3118360</td></tr>\n",
              "<tr><td>AM</td><td>8073418</td><td>80734451</td><td>3483985</td></tr>\n",
              "<tr><td>RR</td><td>2100462</td><td>21004693</td><td>450479</td></tr>\n",
              "<tr><td>GO</td><td>128198764</td><td>1281988737</td><td>6003788</td></tr>\n",
              "<tr><td>TO</td><td>23790468</td><td>237905293</td><td>1383445</td></tr>\n",
              "<tr><td>MT</td><td>71983896</td><td>719839592</td><td>3035122</td></tr>\n",
              "<tr><td>SP</td><td>227600721</td><td>2276010133</td><td>41262199</td></tr>\n",
              "<tr><td>PB</td><td>55944004</td><td>559441029</td><td>3766528</td></tr>\n",
              "<tr><td>ES</td><td>24982636</td><td>249826710</td><td>3514952</td></tr>\n",
              "<tr><td>RS</td><td>214300083</td><td>2143003048</td><td>10693929</td></tr>\n",
              "<tr><td>MS</td><td>39535486</td><td>395355226</td><td>2449024</td></tr>\n",
              "<tr><td>AL</td><td>27588746</td><td>275887914</td><td>3120494</td></tr>\n",
              "<tr><td>MG</td><td>267584156</td><td>2675845374</td><td>19597330</td></tr>\n",
              "<tr><td>PA</td><td>21664293</td><td>216643582</td><td>7581051</td></tr>\n",
              "<tr><td>BA</td><td>121644985</td><td>1216451757</td><td>14016906</td></tr>\n",
              "<tr><td>SE</td><td>21029422</td><td>210294557</td><td>2068017</td></tr>\n",
              "<tr><td>PE</td><td>48252385</td><td>482524668</td><td>8796448</td></tr>\n",
              "<tr><td>CE</td><td>42449433</td><td>424495156</td><td>8452381</td></tr>\n",
              "</table>\n",
              "only showing top 20 rows\n"
            ]
          },
          "metadata": {},
          "execution_count": 32
        }
      ]
    },
    {
      "cell_type": "markdown",
      "source": [
        "##Obtendo média da população, agrupado e ordenado por UF\n",
        "####Obs: Sem formatar os nomes das colunas"
      ],
      "metadata": {
        "id": "DE75RNK5Q47K"
      }
    },
    {
      "cell_type": "code",
      "source": [
        "df_municipios.groupBy('UF').avg().orderBy('UF')"
      ],
      "metadata": {
        "colab": {
          "base_uri": "https://localhost:8080/",
          "height": 524
        },
        "id": "MDxuv12eOVIe",
        "outputId": "baf0d854-ef8d-4ed1-ec63-5eb3c7df4bb1"
      },
      "execution_count": null,
      "outputs": [
        {
          "output_type": "execute_result",
          "data": {
            "text/plain": [
              "+---+------------------+------------------+------------------+\n",
              "| UF|         avg(IBGE)|        avg(IBGE7)|avg(Populacao2010)|\n",
              "+---+------------------+------------------+------------------+\n",
              "| AC|120034.63636363637|1200350.8636363635| 33343.59090909091|\n",
              "| AL|270477.90196078434| 2704783.470588235| 30593.07843137255|\n",
              "| AM|130216.41935483871| 1302168.564516129|  56193.3064516129|\n",
              "| AP|          160036.5|        1600369.25|         41845.375|\n",
              "| BA| 291714.5923261391| 2917150.496402878| 33613.68345323741|\n",
              "| CE| 230703.4402173913|2307038.8913043477| 45936.85326086957|\n",
              "| DF|          530010.0|         5300108.0|         2570160.0|\n",
              "| ES| 320290.2051282051|3202906.5384615385| 45063.48717948718|\n",
              "| GO|521133.18699186994|5211336.3292682925|24405.642276422765|\n",
              "| MA|210646.64055299538|  2106470.99078341|30298.566820276497|\n",
              "| MG| 313697.7209847597|3136981.6811254397| 22974.59554513482|\n",
              "| MS| 500449.1898734177|  5004496.53164557| 31397.74358974359|\n",
              "| MT|510524.08510638296| 5105245.333333333|21525.687943262412|\n",
              "| PA|150446.47916666666|1504469.3194444445|53014.342657342655|\n",
              "| PB| 250869.9730941704|2508704.1659192825|  16890.2600896861|\n",
              "| PE| 260823.7027027027| 2608241.448648649| 47548.36756756757|\n",
              "| PI|220568.91964285713|2205693.5491071427|          13921.25|\n",
              "| PR| 411443.1979949875| 4114436.456140351|26176.756892230576|\n",
              "| RJ| 330312.3804347826| 3303128.467391304| 173803.5760869565|\n",
              "| RN|240764.19161676647| 2407646.568862275|18970.221556886227|\n",
              "+---+------------------+------------------+------------------+\n",
              "only showing top 20 rows"
            ],
            "text/html": [
              "<table border='1'>\n",
              "<tr><th>UF</th><th>avg(IBGE)</th><th>avg(IBGE7)</th><th>avg(Populacao2010)</th></tr>\n",
              "<tr><td>AC</td><td>120034.63636363637</td><td>1200350.8636363635</td><td>33343.59090909091</td></tr>\n",
              "<tr><td>AL</td><td>270477.90196078434</td><td>2704783.470588235</td><td>30593.07843137255</td></tr>\n",
              "<tr><td>AM</td><td>130216.41935483871</td><td>1302168.564516129</td><td>56193.3064516129</td></tr>\n",
              "<tr><td>AP</td><td>160036.5</td><td>1600369.25</td><td>41845.375</td></tr>\n",
              "<tr><td>BA</td><td>291714.5923261391</td><td>2917150.496402878</td><td>33613.68345323741</td></tr>\n",
              "<tr><td>CE</td><td>230703.4402173913</td><td>2307038.8913043477</td><td>45936.85326086957</td></tr>\n",
              "<tr><td>DF</td><td>530010.0</td><td>5300108.0</td><td>2570160.0</td></tr>\n",
              "<tr><td>ES</td><td>320290.2051282051</td><td>3202906.5384615385</td><td>45063.48717948718</td></tr>\n",
              "<tr><td>GO</td><td>521133.18699186994</td><td>5211336.3292682925</td><td>24405.642276422765</td></tr>\n",
              "<tr><td>MA</td><td>210646.64055299538</td><td>2106470.99078341</td><td>30298.566820276497</td></tr>\n",
              "<tr><td>MG</td><td>313697.7209847597</td><td>3136981.6811254397</td><td>22974.59554513482</td></tr>\n",
              "<tr><td>MS</td><td>500449.1898734177</td><td>5004496.53164557</td><td>31397.74358974359</td></tr>\n",
              "<tr><td>MT</td><td>510524.08510638296</td><td>5105245.333333333</td><td>21525.687943262412</td></tr>\n",
              "<tr><td>PA</td><td>150446.47916666666</td><td>1504469.3194444445</td><td>53014.342657342655</td></tr>\n",
              "<tr><td>PB</td><td>250869.9730941704</td><td>2508704.1659192825</td><td>16890.2600896861</td></tr>\n",
              "<tr><td>PE</td><td>260823.7027027027</td><td>2608241.448648649</td><td>47548.36756756757</td></tr>\n",
              "<tr><td>PI</td><td>220568.91964285713</td><td>2205693.5491071427</td><td>13921.25</td></tr>\n",
              "<tr><td>PR</td><td>411443.1979949875</td><td>4114436.456140351</td><td>26176.756892230576</td></tr>\n",
              "<tr><td>RJ</td><td>330312.3804347826</td><td>3303128.467391304</td><td>173803.5760869565</td></tr>\n",
              "<tr><td>RN</td><td>240764.19161676647</td><td>2407646.568862275</td><td>18970.221556886227</td></tr>\n",
              "</table>\n",
              "only showing top 20 rows\n"
            ]
          },
          "metadata": {},
          "execution_count": 14
        }
      ]
    },
    {
      "cell_type": "markdown",
      "source": [
        "#Obtendo valor máximo da população ordenada por UF"
      ],
      "metadata": {
        "id": "o0-FZwu-Rx10"
      }
    },
    {
      "cell_type": "code",
      "source": [
        "df_municipios.groupBy('UF').max().orderBy('UF')"
      ],
      "metadata": {
        "colab": {
          "base_uri": "https://localhost:8080/",
          "height": 524
        },
        "id": "o9Xlz8e5R4R7",
        "outputId": "74a1e5ef-3559-4810-e12e-e5779404f747"
      },
      "execution_count": null,
      "outputs": [
        {
          "output_type": "execute_result",
          "data": {
            "text/plain": [
              "+---+---------+----------+------------------+\n",
              "| UF|max(IBGE)|max(IBGE7)|max(Populacao2010)|\n",
              "+---+---------+----------+------------------+\n",
              "| AC|   120080|   1200807|            336038|\n",
              "| AL|   270940|   2709400|            932748|\n",
              "| AM|   130440|   1304401|           1802014|\n",
              "| AP|   160080|   1600808|            398204|\n",
              "| BA|   293360|   2933604|           2675656|\n",
              "| CE|   231410|   2314102|           2452185|\n",
              "| DF|   530010|   5300108|           2570160|\n",
              "| ES|   320530|   3205309|            414586|\n",
              "| GO|   522230|   5222302|           1302001|\n",
              "| MA|   211400|   2114007|           1014837|\n",
              "| MG|   317220|   3172202|           2375151|\n",
              "| MS|   500840|   5008404|            786797|\n",
              "| MT|   510895|   5108956|            551098|\n",
              "| PA|   150840|   1508407|           1393399|\n",
              "| PB|   251740|   2517407|            723515|\n",
              "| PE|   261650|   2616506|           1537704|\n",
              "| PI|   221170|   2211704|            814230|\n",
              "| PR|   412880|   4128807|           1751907|\n",
              "| RJ|   330630|   3306305|           6320446|\n",
              "| RN|   241500|   2415008|            803739|\n",
              "+---+---------+----------+------------------+\n",
              "only showing top 20 rows"
            ],
            "text/html": [
              "<table border='1'>\n",
              "<tr><th>UF</th><th>max(IBGE)</th><th>max(IBGE7)</th><th>max(Populacao2010)</th></tr>\n",
              "<tr><td>AC</td><td>120080</td><td>1200807</td><td>336038</td></tr>\n",
              "<tr><td>AL</td><td>270940</td><td>2709400</td><td>932748</td></tr>\n",
              "<tr><td>AM</td><td>130440</td><td>1304401</td><td>1802014</td></tr>\n",
              "<tr><td>AP</td><td>160080</td><td>1600808</td><td>398204</td></tr>\n",
              "<tr><td>BA</td><td>293360</td><td>2933604</td><td>2675656</td></tr>\n",
              "<tr><td>CE</td><td>231410</td><td>2314102</td><td>2452185</td></tr>\n",
              "<tr><td>DF</td><td>530010</td><td>5300108</td><td>2570160</td></tr>\n",
              "<tr><td>ES</td><td>320530</td><td>3205309</td><td>414586</td></tr>\n",
              "<tr><td>GO</td><td>522230</td><td>5222302</td><td>1302001</td></tr>\n",
              "<tr><td>MA</td><td>211400</td><td>2114007</td><td>1014837</td></tr>\n",
              "<tr><td>MG</td><td>317220</td><td>3172202</td><td>2375151</td></tr>\n",
              "<tr><td>MS</td><td>500840</td><td>5008404</td><td>786797</td></tr>\n",
              "<tr><td>MT</td><td>510895</td><td>5108956</td><td>551098</td></tr>\n",
              "<tr><td>PA</td><td>150840</td><td>1508407</td><td>1393399</td></tr>\n",
              "<tr><td>PB</td><td>251740</td><td>2517407</td><td>723515</td></tr>\n",
              "<tr><td>PE</td><td>261650</td><td>2616506</td><td>1537704</td></tr>\n",
              "<tr><td>PI</td><td>221170</td><td>2211704</td><td>814230</td></tr>\n",
              "<tr><td>PR</td><td>412880</td><td>4128807</td><td>1751907</td></tr>\n",
              "<tr><td>RJ</td><td>330630</td><td>3306305</td><td>6320446</td></tr>\n",
              "<tr><td>RN</td><td>241500</td><td>2415008</td><td>803739</td></tr>\n",
              "</table>\n",
              "only showing top 20 rows\n"
            ]
          },
          "metadata": {},
          "execution_count": 15
        }
      ]
    },
    {
      "cell_type": "markdown",
      "source": [
        "###Utilizando funções UDF"
      ],
      "metadata": {
        "id": "05IMtNYo7YkU"
      }
    },
    {
      "cell_type": "code",
      "source": [
        "\n",
        "def convertCase(str): #Convertendo UDF\n",
        "    resStr=\"\"\n",
        "    arr = str.split(\" \")\n",
        "    for x in arr:\n",
        "       resStr= resStr + x[0:1].upper() + x[1:len(x)] + \" \"\n",
        "    return resStr \n"
      ],
      "metadata": {
        "id": "aZSNR2n-Nd6H"
      },
      "execution_count": null,
      "outputs": []
    },
    {
      "cell_type": "code",
      "source": [
        "def upperCase(str): #Método upper para retornar os dados em MAIÚSCULO\n",
        "    return str.upper()"
      ],
      "metadata": {
        "id": "KMromzBaMq1g"
      },
      "execution_count": null,
      "outputs": []
    },
    {
      "cell_type": "code",
      "source": [
        "from pyspark.sql.types import StringType\n",
        "upperCaseUDF = udf(lambda z:upperCase(z),StringType())   \n",
        "\n",
        "df_municipios.withColumn(\"MunicipioUPPER\", upperCaseUDF(col(\"Municipio\"))) \\\n",
        "  .show(truncate=False)"
      ],
      "metadata": {
        "colab": {
          "base_uri": "https://localhost:8080/"
        },
        "id": "tlF8R4UTPRiM",
        "outputId": "dbb00aff-cfef-450e-8d0f-23272942a8f0"
      },
      "execution_count": null,
      "outputs": [
        {
          "output_type": "stream",
          "name": "stdout",
          "text": [
            "+--------------------------+------+-------+---+------------------------+------------+-------------+----------+-------+----+----+------------------------+\n",
            "|ConcatUFMun               |IBGE  |IBGE7  |UF |Municipio               |Regiao      |Populacao2010|Porte     |Capital|_c9 |_c10|MunicipioUPPER          |\n",
            "+--------------------------+------+-------+---+------------------------+------------+-------------+----------+-------+----+----+------------------------+\n",
            "|ROAlta Floresta D'oeste   |110001|1100015|RO |Alta Floresta D oeste   |Regiao Norte|24392        |Pequeno II|null   |null|null|ALTA FLORESTA D OESTE   |\n",
            "|ROAriquemes               |110002|1100023|RO |Ariquemes               |Regiao Norte|90353        |Medio     |null   |null|null|ARIQUEMES               |\n",
            "|ROCabixi                  |110003|1100031|RO |Cabixi                  |Regiao Norte|6313         |Pequeno I |null   |null|null|CABIXI                  |\n",
            "|ROCacoal                  |110004|1100049|RO |Cacoal                  |Regiao Norte|78574        |Medio     |null   |null|null|CACOAL                  |\n",
            "|ROCerejeiras              |110005|1100056|RO |Cerejeiras              |Regiao Norte|17029        |Pequeno I |null   |null|null|CEREJEIRAS              |\n",
            "|ROColorado do Oeste       |110006|1100064|RO |Colorado do Oeste       |Regiao Norte|18591        |Pequeno I |null   |null|null|COLORADO DO OESTE       |\n",
            "|ROCorumbiara              |110007|1100072|RO |Corumbiara              |Regiao Norte|8783         |Pequeno I |null   |null|null|CORUMBIARA              |\n",
            "|ROCosta Marques           |110008|1100080|RO |Costa Marques           |Regiao Norte|13678        |Pequeno I |null   |null|null|COSTA MARQUES           |\n",
            "|ROEspigao D'oeste         |110009|1100098|RO |Espigao D oeste         |Regiao Norte|28729        |Pequeno II|null   |null|null|ESPIGAO D OESTE         |\n",
            "|ROGuajara-mirim           |110010|1100106|RO |Guajara-mirim           |Regiao Norte|41656        |Pequeno II|null   |null|null|GUAJARA-MIRIM           |\n",
            "|ROJaru                    |110011|1100114|RO |Jaru                    |Regiao Norte|52005        |Medio     |null   |null|null|JARU                    |\n",
            "|ROJi-parana               |110012|1100122|RO |Ji-parana               |Regiao Norte|116610       |Grande    |null   |null|null|JI-PARANA               |\n",
            "|ROMachadinho D'oeste      |110013|1100130|RO |Machadinho Doeste       |Regiao Norte|31135        |Pequeno II|null   |null|null|MACHADINHO DOESTE       |\n",
            "|RONova Brasilandia D'oeste|110014|1100148|RO |Nova Brasilandia D oeste|Regiao Norte|19874        |Pequeno I |null   |null|null|NOVA BRASILANDIA D OESTE|\n",
            "|ROOuro Preto do Oeste     |110015|1100155|RO |Ouro Preto do Oeste     |Regiao Norte|37928        |Pequeno II|null   |null|null|OURO PRETO DO OESTE     |\n",
            "|ROPimenta Bueno           |110018|1100189|RO |Pimenta Bueno           |Regiao Norte|33822        |Pequeno II|null   |null|null|PIMENTA BUENO           |\n",
            "|ROPorto Velho             |110020|1100205|RO |Porto Velho             |Regiao Norte|428527       |Grande    |Capital|null|null|PORTO VELHO             |\n",
            "|ROPresidente Medici       |110025|1100254|RO |Presidente Medici       |Regiao Norte|22319        |Pequeno II|null   |null|null|PRESIDENTE MEDICI       |\n",
            "|RORio Crespo              |110026|1100262|RO |Rio Crespo              |Regiao Norte|3316         |Pequeno I |null   |null|null|RIO CRESPO              |\n",
            "|RORolim de Moura          |110028|1100288|RO |Rolim de Moura          |Regiao Norte|50648        |Medio     |null   |null|null|ROLIM DE MOURA          |\n",
            "+--------------------------+------+-------+---+------------------------+------------+-------------+----------+-------+----+----+------------------------+\n",
            "only showing top 20 rows\n",
            "\n"
          ]
        }
      ]
    },
    {
      "cell_type": "markdown",
      "source": [
        "##Exibindo apenas a coluna com o dado origina, e a coluna com o dado modificado (upper)."
      ],
      "metadata": {
        "id": "ENlYhZvYyFFH"
      }
    },
    {
      "cell_type": "code",
      "source": [
        "from pyspark.sql.types import StringType\n",
        "upperCaseUDF = udf(lambda z:upperCase(z),StringType())   \n",
        "\n",
        "df_municipios.withColumn(\"MunicipioUPPER\", upperCaseUDF(col(\"Municipio\"))) \\\n",
        "  .select('Municipio', 'MunicipioUPPER') #Select para exibir apenas duas colunas \n"
      ],
      "metadata": {
        "colab": {
          "base_uri": "https://localhost:8080/",
          "height": 524
        },
        "id": "yEAGyWZZ-on2",
        "outputId": "fcfb6ebc-d6ff-4e39-fbd5-dd73e9cb0122"
      },
      "execution_count": null,
      "outputs": [
        {
          "output_type": "execute_result",
          "data": {
            "text/plain": [
              "+--------------------+--------------------+\n",
              "|           Municipio|      MunicipioUPPER|\n",
              "+--------------------+--------------------+\n",
              "|Alta Floresta D o...|ALTA FLORESTA D O...|\n",
              "|           Ariquemes|           ARIQUEMES|\n",
              "|              Cabixi|              CABIXI|\n",
              "|              Cacoal|              CACOAL|\n",
              "|          Cerejeiras|          CEREJEIRAS|\n",
              "|   Colorado do Oeste|   COLORADO DO OESTE|\n",
              "|          Corumbiara|          CORUMBIARA|\n",
              "|       Costa Marques|       COSTA MARQUES|\n",
              "|     Espigao D oeste|     ESPIGAO D OESTE|\n",
              "|       Guajara-mirim|       GUAJARA-MIRIM|\n",
              "|                Jaru|                JARU|\n",
              "|           Ji-parana|           JI-PARANA|\n",
              "|   Machadinho Doeste|   MACHADINHO DOESTE|\n",
              "|Nova Brasilandia ...|NOVA BRASILANDIA ...|\n",
              "| Ouro Preto do Oeste| OURO PRETO DO OESTE|\n",
              "|       Pimenta Bueno|       PIMENTA BUENO|\n",
              "|         Porto Velho|         PORTO VELHO|\n",
              "|   Presidente Medici|   PRESIDENTE MEDICI|\n",
              "|          Rio Crespo|          RIO CRESPO|\n",
              "|      Rolim de Moura|      ROLIM DE MOURA|\n",
              "+--------------------+--------------------+\n",
              "only showing top 20 rows"
            ],
            "text/html": [
              "<table border='1'>\n",
              "<tr><th>Municipio</th><th>MunicipioUPPER</th></tr>\n",
              "<tr><td>Alta Floresta D o...</td><td>ALTA FLORESTA D O...</td></tr>\n",
              "<tr><td>Ariquemes</td><td>ARIQUEMES</td></tr>\n",
              "<tr><td>Cabixi</td><td>CABIXI</td></tr>\n",
              "<tr><td>Cacoal</td><td>CACOAL</td></tr>\n",
              "<tr><td>Cerejeiras</td><td>CEREJEIRAS</td></tr>\n",
              "<tr><td>Colorado do Oeste</td><td>COLORADO DO OESTE</td></tr>\n",
              "<tr><td>Corumbiara</td><td>CORUMBIARA</td></tr>\n",
              "<tr><td>Costa Marques</td><td>COSTA MARQUES</td></tr>\n",
              "<tr><td>Espigao D oeste</td><td>ESPIGAO D OESTE</td></tr>\n",
              "<tr><td>Guajara-mirim</td><td>GUAJARA-MIRIM</td></tr>\n",
              "<tr><td>Jaru</td><td>JARU</td></tr>\n",
              "<tr><td>Ji-parana</td><td>JI-PARANA</td></tr>\n",
              "<tr><td>Machadinho Doeste</td><td>MACHADINHO DOESTE</td></tr>\n",
              "<tr><td>Nova Brasilandia ...</td><td>NOVA BRASILANDIA ...</td></tr>\n",
              "<tr><td>Ouro Preto do Oeste</td><td>OURO PRETO DO OESTE</td></tr>\n",
              "<tr><td>Pimenta Bueno</td><td>PIMENTA BUENO</td></tr>\n",
              "<tr><td>Porto Velho</td><td>PORTO VELHO</td></tr>\n",
              "<tr><td>Presidente Medici</td><td>PRESIDENTE MEDICI</td></tr>\n",
              "<tr><td>Rio Crespo</td><td>RIO CRESPO</td></tr>\n",
              "<tr><td>Rolim de Moura</td><td>ROLIM DE MOURA</td></tr>\n",
              "</table>\n",
              "only showing top 20 rows\n"
            ]
          },
          "metadata": {},
          "execution_count": 33
        }
      ]
    }
  ]
}